{
  "cells": [
    {
      "cell_type": "markdown",
      "metadata": {
        "id": "jhFiyvHnx4S-"
      },
      "source": [
        "# Problem description\n",
        "We want to check the similarity between distinct related groups of nouns in the animals semantic field (as an example). For this, we have divided animal words in different categories, based on distinct \"subfields\", such as 'farm' animals or animals commonly considered as pets. We have also created categories based on social/human biases, such as animals commonly associated with food (chicken, shrimp..) or with unrelated items (mouse as in computer mouse).\n",
        "\n",
        "We have used the object prototypes from openAI's CLIP dataset for this task due to the higher availability of animal-related nouns, although many common ones such as fox or even aquatic animals (dolphin, shark, whale...) are missing.\n",
        "\n",
        "Our hypothesis is that, while the text embeddings encode their own biases and groupings between semantically related concepts, their combination with image-based embeddings will have amplified this behavior, as the surrounding contexts of the objects in the images may encode biases not mentioned as frequently in the text (e.g., a cow is implicitly assumed to appear in farms due to our own human bias and is not always mentioned in the text, while their pictures will directly encode that).\n",
        "\n",
        "During testing, we will check the similarities between words assigned to each category, via qualitative analysis (intra-group and inter-group similarity scores), visualizations (2d and 3d plottings) and quantitative analysis (KMeans and K-nearest neighbors clustering vs. our categories)"
      ]
    },
    {
      "cell_type": "markdown",
      "metadata": {
        "id": "dkBH0UnIgDz1"
      },
      "source": [
        "# Imports"
      ]
    },
    {
      "cell_type": "code",
      "execution_count": null,
      "metadata": {
        "id": "vNx5gbiqgDe9"
      },
      "outputs": [],
      "source": [
        "import pickle\n",
        "import matplotlib.pyplot as plt\n",
        "import numpy as np\n",
        "from sklearn.decomposition import PCA\n",
        "try:\n",
        "  from adjustText import adjust_text\n",
        "except:\n",
        "  !pip install adjustText\n",
        "  from adjustText import adjust_text\n",
        "import random\n",
        "from scipy import spatial\n",
        "\n",
        "# Fuzzy search box for the object prototype keys\n",
        "from ipywidgets import interact, widgets\n",
        "!pip install fuzzywuzzy\n",
        "from fuzzywuzzy import process\n",
        "\n",
        "# 3D visualization\n",
        "import plotly.graph_objects as go\n",
        "\n",
        "# Clustering\n",
        "from sklearn.cluster import KMeans\n",
        "from sklearn.metrics import silhouette_score\n",
        "from sklearn.neighbors import NearestNeighbors\n",
        "\n",
        "# Save plots as a video\n",
        "!pip install kaleido\n",
        "import imageio.v2 as imageio"
      ]
    },
    {
      "cell_type": "markdown",
      "metadata": {
        "id": "Sb9IWQ3_ezqT"
      },
      "source": [
        "# Auxiliary functions"
      ]
    },
    {
      "cell_type": "code",
      "execution_count": 2,
      "metadata": {
        "id": "SAJivBmSe1yI"
      },
      "outputs": [],
      "source": [
        "def reduce_dim(space, list_of_words, dims):\n",
        "  X = np.array([space[key] for key in list_of_words])\n",
        "  pca = PCA(n_components=dims)\n",
        "\n",
        "  return dict(zip(list_of_words, pca.fit_transform(X)))"
      ]
    },
    {
      "cell_type": "code",
      "execution_count": 3,
      "metadata": {
        "id": "_tMmGHgpf94u"
      },
      "outputs": [],
      "source": [
        "# Visualization function for 2 dimensions, from the original multimodality colab\n",
        "# notebook\n",
        "def visualize(list_of_words, space, domain_dict):\n",
        "  # Create a color map\n",
        "  domains = set(domain_dict.values())\n",
        "  colors = ['red', 'blue', 'green', 'black', 'yellow', 'pink', 'purple']\n",
        "  color_map = {domain: color for domain, color in zip(domains, colors)}\n",
        "\n",
        "  # Initialize plot\n",
        "  fig, ax = plt.subplots(figsize=(12, 7))\n",
        "\n",
        "  texts = []\n",
        "  legend_labels = {}\n",
        "\n",
        "  for word in list_of_words:\n",
        "    x = space[word][0]\n",
        "    y = space[word][1]\n",
        "\n",
        "    # Get the domain and corresponding color for each word\n",
        "    domain = domain_dict[word]\n",
        "    color = color_map[domain]\n",
        "\n",
        "    # Plot the word's position as a dot, colored by its domain\n",
        "    ax.scatter(x, y, color=color)\n",
        "\n",
        "    # Annotate the dot with the word\n",
        "    texts.append(ax.annotate(word, xy=(x, y), fontsize=13))\n",
        "\n",
        "    # Add to legend labels (if not already added)\n",
        "    if domain not in legend_labels:\n",
        "        legend_labels[domain] = color\n",
        "\n",
        "  # Adjust text to avoid overlapping\n",
        "  adjust_text(texts)\n",
        "\n",
        "  # Add legend\n",
        "  handles = [plt.Line2D([0], [0], marker='o', color='w', markerfacecolor=color, markersize=10) for color in legend_labels.values()]\n",
        "  ax.legend(handles, legend_labels.keys(), title='Domains')\n",
        "\n",
        "  plt.show()"
      ]
    },
    {
      "cell_type": "code",
      "execution_count": 4,
      "metadata": {
        "id": "kJmKcZk0-Zmm"
      },
      "outputs": [],
      "source": [
        "# Visualization function for 3 dimensions, allowing for interaction via plotly\n",
        "def visualize_3d_interactive(list_of_words, space, domain_dict, plot_name):\n",
        "    domains = set(domain_dict.values())\n",
        "    colors = ['red', 'blue', 'green', 'black', 'yellow', 'pink', 'purple']\n",
        "    color_map = {domain: color for domain, color in zip(domains, colors)}\n",
        "\n",
        "    # Instead of a matplotlib figure, we create a plotly one\n",
        "    fig = go.Figure()\n",
        "\n",
        "    # (This is extremely ugly)\n",
        "    min_x = None\n",
        "    min_y = None\n",
        "    min_z = None\n",
        "    max_x = None\n",
        "    max_y = None\n",
        "    max_z = None\n",
        "    for word in list_of_words:\n",
        "        x = space[word][0]\n",
        "        y = space[word][1]\n",
        "        z = space[word][2]\n",
        "\n",
        "        if max_x is None or x > max_x:\n",
        "          max_x = x\n",
        "\n",
        "        if max_y is None or y > max_y:\n",
        "          max_y = y\n",
        "\n",
        "        if max_z is None or z > max_z:\n",
        "          max_z = z\n",
        "\n",
        "        if min_x is None or x < min_x:\n",
        "          min_x = x\n",
        "\n",
        "        if min_y is None or y < min_y:\n",
        "          min_y = y\n",
        "\n",
        "        if min_z is None or z < min_z:\n",
        "          min_z = z\n",
        "\n",
        "        domain = domain_dict[word]\n",
        "        color = color_map[domain]\n",
        "\n",
        "        # Plot the word's position as a scatter point, colored by its domain\n",
        "        fig.add_trace(go.Scatter3d(x=[x], y=[y], z=[z], mode='markers+text',\n",
        "                                   marker=dict(size=5, color=color), text=[word], textposition=\"top center\", showlegend=False))\n",
        "\n",
        "    # Add the legend\n",
        "    for domain, color in color_map.items():\n",
        "        fig.add_trace(go.Scatter3d(x=[None], y=[None], z=[None], mode='markers+text',\n",
        "                                   marker=dict(size=5, color=color), text=[domain], legendgroup=domain, name=domain))\n",
        "\n",
        "    # Show a bounding box around the points, with enough space to show all\n",
        "    # of them (otherwise they collide with the 'walls')\n",
        "    fig.update_layout(scene=dict(\n",
        "        xaxis=dict(range=[min_x - 0.5*max_x, max_x + 0.5*max_x]),\n",
        "        yaxis=dict(range=[min_y - 0.5*max_y, max_y + 0.5*max_y]),\n",
        "        zaxis=dict(range=[min_z - 0.5*max_z, max_z + 0.5*max_z]),\n",
        "        aspectmode='cube'\n",
        "    ))\n",
        "    fig.show()"
      ]
    },
    {
      "cell_type": "code",
      "execution_count": 5,
      "metadata": {
        "id": "VNpWEgk589zs"
      },
      "outputs": [],
      "source": [
        "def cosine_similarity(v1, v2):\n",
        "  cos = 1 - spatial.distance.cosine(v1, v2)\n",
        "  return cos\n",
        "\n",
        "# Computes the average cosine similarity between the words in the given list\n",
        "def compute_avg_similarity(words, prototypes):\n",
        "  if len(words) == 1:\n",
        "    return 1\n",
        "\n",
        "  avg_similarity = 0.0\n",
        "\n",
        "  for i in range(0, len(words)):\n",
        "    # Calculate the similarity only with words further in the array, this way\n",
        "    # we avoid calculating duplicate similarities\n",
        "    for j in range(i + 1, len(words)):\n",
        "      avg_similarity += cosine_similarity(prototypes[words[i]], prototypes[words[j]])\n",
        "\n",
        "  return avg_similarity / (len(words) * (len(words) - 1) / 2)"
      ]
    },
    {
      "cell_type": "code",
      "execution_count": 6,
      "metadata": {
        "id": "IpGmNFZF8-_s"
      },
      "outputs": [],
      "source": [
        "# Calculates the average cosine similarity between words in two lists, so that\n",
        "# if group_1 = [w_11, w_12] and group_2 = [w_21, w_22], their average cosine\n",
        "# similarity is:\n",
        "#   (sim(w_11, w_21) + sim(w_11, w_22) + sim(w_12, w21) + sim(w1_12, w_22)) / 4\n",
        "def compute_avg_similarity_between_groups(group_1, group_2, prototypes):\n",
        "  avg_similarity = 0.0\n",
        "\n",
        "  for word_1 in group_1:\n",
        "    for word_2 in group_2:\n",
        "      avg_similarity += cosine_similarity(prototypes[word_1], prototypes[word_2])\n",
        "\n",
        "  n = len(group_1)+len(group_2)\n",
        "  return avg_similarity / (n * (n - 1) / 2)"
      ]
    },
    {
      "cell_type": "code",
      "execution_count": 7,
      "metadata": {
        "id": "6dQPtPA09KCS"
      },
      "outputs": [],
      "source": [
        "# Returns the n nearest neighbors for the given word (i.e. from highest cosine\n",
        "# similarity to lowest, excluding the word itself)\n",
        "def get_nearest_neighbors(word, n, prototypes):\n",
        "    distances = []\n",
        "\n",
        "    word_embedding = prototypes[word]\n",
        "\n",
        "    for k, v in prototypes.items():\n",
        "        distances.append((k, cosine_similarity(v, word_embedding)))\n",
        "\n",
        "    sorted_distances = sorted(distances, key=lambda x: x[1], reverse=True)[:n]\n",
        "\n",
        "    # Remove the distances from the tuples and the first neighbor (which is\n",
        "    # always going to be the word itself)\n",
        "    nearest_neighbors = [dist[0] for dist in sorted_distances][1:]\n",
        "\n",
        "    return nearest_neighbors"
      ]
    },
    {
      "cell_type": "code",
      "execution_count": 8,
      "metadata": {
        "id": "vUQdcpRz9I-e"
      },
      "outputs": [],
      "source": [
        "# Expands the given words list with the n nearest neighbors of each of its words,\n",
        "# avoiding duplicates\n",
        "def expand_with_nearest_neighbors(words, n, prototypes):\n",
        "  expanded_words = []\n",
        "\n",
        "  for word in words:\n",
        "    if word not in expanded_words: # It could have been the nearest neighbor of a previous one\n",
        "      expanded_words.append(word)\n",
        "    for nn in get_nearest_neighbors(word, n, prototypes):\n",
        "      if nn not in expanded_words:\n",
        "        expanded_words.append(nn)\n",
        "\n",
        "  return expanded_words"
      ]
    },
    {
      "cell_type": "markdown",
      "metadata": {
        "id": "o5XLzPl8avOo"
      },
      "source": [
        "# CLIP dataset preparation"
      ]
    },
    {
      "cell_type": "code",
      "execution_count": 9,
      "metadata": {
        "colab": {
          "base_uri": "https://localhost:8080/"
        },
        "id": "m24WKhWea59S",
        "outputId": "ca529d28-8018-45a0-9538-6df2e1c1512f"
      },
      "outputs": [
        {
          "output_type": "stream",
          "name": "stdout",
          "text": [
            "Downloading...\n",
            "From: https://drive.google.com/uc?id=1Ref1iybGg5j_daYLZT4ud7q5IYSySTL6\n",
            "To: /content/CLIP_prototypes.pkl\n",
            "100% 9.32M/9.32M [00:00<00:00, 53.5MB/s]\n"
          ]
        }
      ],
      "source": [
        "# Note: This may not be available forever\n",
        "!gdown 1Ref1iybGg5j_daYLZT4ud7q5IYSySTL6"
      ]
    },
    {
      "cell_type": "code",
      "execution_count": 10,
      "metadata": {
        "id": "SFsJ4IkAcShO"
      },
      "outputs": [],
      "source": [
        "clip_obj_prototypes = pickle.load(open(\"CLIP_prototypes.pkl\", \"rb\"))"
      ]
    },
    {
      "cell_type": "markdown",
      "metadata": {
        "id": "FMOSnSL59UKu"
      },
      "source": [
        "## We can look up words by performing a fuzzy search on the object prototypes keys"
      ]
    },
    {
      "cell_type": "code",
      "execution_count": 11,
      "metadata": {
        "colab": {
          "base_uri": "https://localhost:8080/",
          "height": 171,
          "referenced_widgets": [
            "68f4b51f11a943e590ebb06fcb821ee0",
            "54e08223a4e8479e8ecf3cbcdf995e8e",
            "b9183e45e4a84e74a1b235ff0d290768",
            "03c7f9886f494df3ac114743e75d7708",
            "62ac2dc67cf44b988b32f349a4c9e27f",
            "07d2960bd51c4cb084d595927315b3d5",
            "c3ff80750c4a4cd2aa41e2d1ef0825bb"
          ]
        },
        "id": "YAvqNQ1wd7XO",
        "outputId": "f91f6158-a899-4118-d6d8-4511e428665c"
      },
      "outputs": [
        {
          "output_type": "display_data",
          "data": {
            "text/plain": [
              "interactive(children=(Text(value='', description='query'), Output()), _dom_classes=('widget-interact',))"
            ],
            "application/vnd.jupyter.widget-view+json": {
              "version_major": 2,
              "version_minor": 0,
              "model_id": "68f4b51f11a943e590ebb06fcb821ee0"
            }
          },
          "metadata": {}
        },
        {
          "output_type": "execute_result",
          "data": {
            "text/plain": [
              "<function __main__.search_box(query='')>"
            ],
            "text/html": [
              "<div style=\"max-width:800px; border: 1px solid var(--colab-border-color);\"><style>\n",
              "      pre.function-repr-contents {\n",
              "        overflow-x: auto;\n",
              "        padding: 8px 12px;\n",
              "        max-height: 500px;\n",
              "      }\n",
              "\n",
              "      pre.function-repr-contents.function-repr-contents-collapsed {\n",
              "        cursor: pointer;\n",
              "        max-height: 100px;\n",
              "      }\n",
              "    </style>\n",
              "    <pre style=\"white-space: initial; background:\n",
              "         var(--colab-secondary-surface-color); padding: 8px 12px;\n",
              "         border-bottom: 1px solid var(--colab-border-color);\"><b>search_box</b><br/>def search_box(query=&#x27;&#x27;)</pre><pre class=\"function-repr-contents function-repr-contents-collapsed\" style=\"\"><a class=\"filepath\" style=\"display:none\" href=\"#\">/content/&lt;ipython-input-11-13d9529f9058&gt;</a>&lt;no docstring&gt;</pre></div>"
            ]
          },
          "metadata": {},
          "execution_count": 11
        }
      ],
      "source": [
        "def fuzzy_search(query):\n",
        "    matches = process.extract(query, clip_obj_prototypes.keys(), limit=5)\n",
        "    return [match[0] for match in matches]\n",
        "\n",
        "def search_box(query=\"\"):\n",
        "    matches = fuzzy_search(query)\n",
        "    print(matches)\n",
        "\n",
        "# Create an interactive widget for the search box\n",
        "interact(search_box, Query=widgets.Text(value='', placeholder='Type here'))"
      ]
    },
    {
      "cell_type": "markdown",
      "metadata": {
        "id": "4AJqMIreCQBJ"
      },
      "source": [
        "## And also by looking at the nearest neighbors of a given word"
      ]
    },
    {
      "cell_type": "code",
      "execution_count": 12,
      "metadata": {
        "colab": {
          "base_uri": "https://localhost:8080/"
        },
        "id": "jOSpSpgxCPRd",
        "outputId": "c52423dd-a513-4248-bd6e-420fba68bc65"
      },
      "outputs": [
        {
          "output_type": "execute_result",
          "data": {
            "text/plain": [
              "['shop',\n",
              " 'business',\n",
              " 'storefront',\n",
              " 'stores',\n",
              " 'shops',\n",
              " 'building',\n",
              " 'kiosk',\n",
              " 'booth',\n",
              " 'cafe']"
            ]
          },
          "metadata": {},
          "execution_count": 12
        }
      ],
      "source": [
        "get_nearest_neighbors('store', 10, clip_obj_prototypes)"
      ]
    },
    {
      "cell_type": "markdown",
      "metadata": {
        "id": "GVF4SiPKA5JQ"
      },
      "source": [
        "# Perform the analysis"
      ]
    },
    {
      "cell_type": "markdown",
      "metadata": {
        "id": "Hle8iv4sjtwt"
      },
      "source": [
        "## Prepare the embeddings and categories to analyze"
      ]
    },
    {
      "cell_type": "code",
      "execution_count": 13,
      "metadata": {
        "id": "yUQ_UyeBc36Z"
      },
      "outputs": [],
      "source": [
        "reduced_obj_space_2d = reduce_dim(clip_obj_prototypes, list(clip_obj_prototypes.keys()), 2)\n",
        "reduced_obj_space_3d = reduce_dim(clip_obj_prototypes, list(clip_obj_prototypes.keys()), 3)"
      ]
    },
    {
      "cell_type": "markdown",
      "metadata": {
        "id": "ZEmsOFbijzba"
      },
      "source": [
        "We set up seven different manually-created domains for different animals, based either on how close they are when plotted or on how related they are with each other"
      ]
    },
    {
      "cell_type": "code",
      "execution_count": 14,
      "metadata": {
        "id": "xofZe8o6e4T8"
      },
      "outputs": [],
      "source": [
        "prototypes = clip_obj_prototypes\n",
        "\n",
        "flying_animals = [\"owl\", \"seagull\", \"goose\", \"duck\", \"pigeon\", \"swan\"]\n",
        "\n",
        "meal_animals = [\"turkey\", \"fish\", \"chicken\", \"shrimp\"]\n",
        "\n",
        "farm_animals = [\"cow\", \"bull\", \"calf\", \"sheep\", \"goat\", \"donkey\", \"ram\", \"pig\"]\n",
        "\n",
        "pet_animals = [\"kitten\", \"dog\", \"cat\", \"puppy\"]\n",
        "\n",
        "thing_animals = [\"mouse\", \"computer mouse\", \"mousepad\"]\n",
        "\n",
        "riding_animals = [\"horse\", \"pony\"]\n",
        "\n",
        "# For convenience when plotting the heat map\n",
        "category_names = [\"Flying animal\",\n",
        "                \"'Meal' animal\",\n",
        "                \"'Farm' animal\",\n",
        "                \"'Pet' animal\",\n",
        "                \"'Thing' animal\",\n",
        "                \"'Riding' animal\"]\n",
        "all_categories = [flying_animals, meal_animals, farm_animals, pet_animals, thing_animals, riding_animals]\n",
        "\n",
        "# We create a domains dict for the plot functions\n",
        "domains = {}\n",
        "\n",
        "for word in flying_animals:\n",
        "  domains[word] = \"Flying animal\"\n",
        "\n",
        "for word in meal_animals:\n",
        "  domains[word] = \"'Meal' animal\"\n",
        "\n",
        "for word in farm_animals:\n",
        "  domains[word] = \"'Farm' animal\"\n",
        "\n",
        "for word in pet_animals:\n",
        "  domains[word] = \"'Pet' animal\"\n",
        "\n",
        "for word in thing_animals:\n",
        "  domains[word] = \"'Thing' animal\"\n",
        "\n",
        "for word in riding_animals:\n",
        "  domains[word] = \"'Riding' animal\""
      ]
    },
    {
      "cell_type": "markdown",
      "metadata": {
        "id": "QiWtYtUHpcfi"
      },
      "source": [
        "## Qualitative analysis"
      ]
    },
    {
      "cell_type": "markdown",
      "metadata": {
        "id": "32i0fKOmnD51"
      },
      "source": [
        "### Similarity comparison"
      ]
    },
    {
      "cell_type": "markdown",
      "metadata": {
        "id": "VSbfjKCsklp_"
      },
      "source": [
        "One easy way to check if the words in each category are similar is to calculate the average cosine similarities between words for each category (intra-group similarities), which are shown below. They should all be, and are, very close to 1.0.\n",
        "\n",
        "In order to measure the similarities between categories (inter-group similarities), we calculate the average cosine similarities between words of different category pairs. Since there are too many samples, we plot their heatmap. One notable aspect is that these similarities do not go above 0.5, indicating that they are indeed related, but not to an extremely high degree."
      ]
    },
    {
      "cell_type": "code",
      "execution_count": 15,
      "metadata": {
        "colab": {
          "base_uri": "https://localhost:8080/",
          "height": 603
        },
        "id": "s409hJaSjr3H",
        "outputId": "ac7d7dac-0f17-4fc9-97d9-8499921b136b"
      },
      "outputs": [
        {
          "output_type": "stream",
          "name": "stdout",
          "text": [
            "Average similarity between words in Flying animal: 0.9581987488553653\n",
            "Average similarity between words in 'Meal' animal: 0.9764418121600561\n",
            "Average similarity between words in 'Farm' animal: 0.953876513384782\n",
            "Average similarity between words in 'Pet' animal: 0.9435654861367465\n",
            "Average similarity between words in 'Thing' animal: 0.9893956214141929\n",
            "Average similarity between words in 'Riding' animal: 0.9808462231550581\n"
          ]
        },
        {
          "output_type": "display_data",
          "data": {
            "text/plain": [
              "<Figure size 640x480 with 2 Axes>"
            ],
            "image/png": "[encoded data removed]"
          },
          "metadata": {}
        }
      ],
      "source": [
        "for i, category in enumerate(all_categories):\n",
        "  print(f\"Average similarity between words in {category_names[i]}:\", compute_avg_similarity(category, prototypes))\n",
        "\n",
        "# Instead of doing this, we plot a heatmap\n",
        "#for i in range(len(all_categories)):\n",
        "#  for j in range(i+1, len(all_categories)):\n",
        "#    print(f\"Average similarity between categories {category_names[i]} and {category_names[j]}:\", compute_avg_similarity_between_groups(all_categories[i], all_categories[j], prototypes))\n",
        "\n",
        "similarity_matrix = np.zeros((len(all_categories), len(all_categories)))\n",
        "\n",
        "for i in range(len(all_categories)):\n",
        "  #similarity_matrix[i, i] = compute_avg_similarity(all_categories[i], prototypes)\n",
        "  for j in range(i+1, len(all_categories)):\n",
        "    avg_similarity = compute_avg_similarity_between_groups(all_categories[i], all_categories[j], prototypes)\n",
        "    similarity_matrix[i, j] = avg_similarity\n",
        "    similarity_matrix[j, i] = avg_similarity\n",
        "\n",
        "plt.imshow(similarity_matrix, cmap='viridis', interpolation='nearest')\n",
        "plt.colorbar()\n",
        "\n",
        "plt.xticks(np.arange(len(category_names)), category_names, rotation=45)\n",
        "plt.yticks(np.arange(len(category_names)), category_names)\n",
        "\n",
        "plt.show()"
      ]
    },
    {
      "cell_type": "markdown",
      "metadata": {
        "id": "B5rzglA4nlaN"
      },
      "source": [
        "### Visualization"
      ]
    },
    {
      "cell_type": "markdown",
      "metadata": {
        "id": "OghK1UC3mICT"
      },
      "source": [
        "When plotting them, we can easily see that the categories are easily visible and separable, especially the 'flying', 'meal' and 'thing' animals\n",
        "\n",
        "One notable outlier is the embedding for 'pig', which seems incorrect. When checking its nearest neighbors, we can see that they are not other animals (shown below). Additionally, 'pony' and 'calf' seem to be located between the 'Pet' and the 'Riding' categories, which is reasonable."
      ]
    },
    {
      "cell_type": "code",
      "execution_count": 16,
      "metadata": {
        "colab": {
          "base_uri": "https://localhost:8080/",
          "height": 542
        },
        "id": "namBmFRykjm6",
        "outputId": "59c25532-2216-40da-a1be-f1cc6c426e8f"
      },
      "outputs": [
        {
          "output_type": "display_data",
          "data": {
            "text/html": [
              "<html>\n",
              "<head><meta charset=\"utf-8\" /></head>\n",
              "<body>\n",
              "    <div>            <script src=\"https://cdnjs.cloudflare.com/ajax/libs/mathjax/2.7.5/MathJax.js?config=TeX-AMS-MML_SVG\"></script><script type=\"text/javascript\">if (window.MathJax && window.MathJax.Hub && window.MathJax.Hub.Config) {window.MathJax.Hub.Config({SVG: {font: \"STIX-Web\"}});}</script>                <script type=\"text/javascript\">window.PlotlyConfig = {MathJaxConfig: 'local'};</script>\n",
              "        <script charset=\"utf-8\" src=\"https://cdn.plot.ly/plotly-2.24.1.min.js\"></script>                <div id=\"0f03f12d-8f3d-4e6f-aa22-f8fe8b7020e7\" class=\"plotly-graph-div\" style=\"height:525px; width:100%;\"></div>            <script type=\"text/javascript\">                                    window.PLOTLYENV=window.PLOTLYENV || {};                                    if (document.getElementById(\"0f03f12d-8f3d-4e6f-aa22-f8fe8b7020e7\")) {                    Plotly.newPlot(                        \"0f03f12d-8f3d-4e6f-aa22-f8fe8b7020e7\",                        [{\"marker\":{\"color\":\"red\",\"size\":5},\"mode\":\"markers+text\",\"showlegend\":false,\"text\":[\"owl\"],\"textposition\":\"top center\",\"x\":[0.048486851361812695],\"y\":[0.0856887253181148],\"z\":[-0.05256468134139938],\"type\":\"scatter3d\"},{\"marker\":{\"color\":\"red\",\"size\":5},\"mode\":\"markers+text\",\"showlegend\":false,\"text\":[\"seagull\"],\"textposition\":\"top center\",\"x\":[0.07583157978157469],\"y\":[0.0469974252056216],\"z\":[0.0007819596445252497],\"type\":\"scatter3d\"},{\"marker\":{\"color\":\"red\",\"size\":5},\"mode\":\"markers+text\",\"showlegend\":false,\"text\":[\"goose\"],\"textposition\":\"top center\",\"x\":[0.06162839171064365],\"y\":[0.06806418399934216],\"z\":[-0.04618174272154557],\"type\":\"scatter3d\"},{\"marker\":{\"color\":\"red\",\"size\":5},\"mode\":\"markers+text\",\"showlegend\":false,\"text\":[\"duck\"],\"textposition\":\"top center\",\"x\":[0.06417456163677143],\"y\":[0.08935156953479494],\"z\":[-0.04139126960118796],\"type\":\"scatter3d\"},{\"marker\":{\"color\":\"red\",\"size\":5},\"mode\":\"markers+text\",\"showlegend\":false,\"text\":[\"pigeon\"],\"textposition\":\"top center\",\"x\":[0.0548440015496899],\"y\":[0.06231102940421902],\"z\":[-0.037746228982500185],\"type\":\"scatter3d\"},{\"marker\":{\"color\":\"red\",\"size\":5},\"mode\":\"markers+text\",\"showlegend\":false,\"text\":[\"swan\"],\"textposition\":\"top center\",\"x\":[0.033398504570178414],\"y\":[0.06110090841189892],\"z\":[-0.020747573425557494],\"type\":\"scatter3d\"},{\"marker\":{\"color\":\"pink\",\"size\":5},\"mode\":\"markers+text\",\"showlegend\":false,\"text\":[\"turkey\"],\"textposition\":\"top center\",\"x\":[-0.05763126769805534],\"y\":[0.2087826403202345],\"z\":[-0.007718254438275735],\"type\":\"scatter3d\"},{\"marker\":{\"color\":\"pink\",\"size\":5},\"mode\":\"markers+text\",\"showlegend\":false,\"text\":[\"fish\"],\"textposition\":\"top center\",\"x\":[-0.057214218580314724],\"y\":[0.17963284789732062],\"z\":[0.024020502997459177],\"type\":\"scatter3d\"},{\"marker\":{\"color\":\"pink\",\"size\":5},\"mode\":\"markers+text\",\"showlegend\":false,\"text\":[\"chicken\"],\"textposition\":\"top center\",\"x\":[-0.07987549127720028],\"y\":[0.2723484169232056],\"z\":[0.014614238972874342],\"type\":\"scatter3d\"},{\"marker\":{\"color\":\"pink\",\"size\":5},\"mode\":\"markers+text\",\"showlegend\":false,\"text\":[\"shrimp\"],\"textposition\":\"top center\",\"x\":[-0.12066552181781283],\"y\":[0.24342101978348288],\"z\":[0.001206354773802528],\"type\":\"scatter3d\"},{\"marker\":{\"color\":\"blue\",\"size\":5},\"mode\":\"markers+text\",\"showlegend\":false,\"text\":[\"cow\"],\"textposition\":\"top center\",\"x\":[0.15038002514794335],\"y\":[0.1383839273415163],\"z\":[-0.044817810060990046],\"type\":\"scatter3d\"},{\"marker\":{\"color\":\"blue\",\"size\":5},\"mode\":\"markers+text\",\"showlegend\":false,\"text\":[\"bull\"],\"textposition\":\"top center\",\"x\":[0.18172709919390467],\"y\":[0.13991912880665733],\"z\":[-0.03842913484192342],\"type\":\"scatter3d\"},{\"marker\":{\"color\":\"blue\",\"size\":5},\"mode\":\"markers+text\",\"showlegend\":false,\"text\":[\"calf\"],\"textposition\":\"top center\",\"x\":[0.12350855761201432],\"y\":[0.11145087641828101],\"z\":[-0.09253057931247025],\"type\":\"scatter3d\"},{\"marker\":{\"color\":\"blue\",\"size\":5},\"mode\":\"markers+text\",\"showlegend\":false,\"text\":[\"sheep\"],\"textposition\":\"top center\",\"x\":[0.1174460021340856],\"y\":[0.13495195126086942],\"z\":[-0.04358402280901408],\"type\":\"scatter3d\"},{\"marker\":{\"color\":\"blue\",\"size\":5},\"mode\":\"markers+text\",\"showlegend\":false,\"text\":[\"goat\"],\"textposition\":\"top center\",\"x\":[0.14044265974194536],\"y\":[0.13859789933434438],\"z\":[-0.05921855576176644],\"type\":\"scatter3d\"},{\"marker\":{\"color\":\"blue\",\"size\":5},\"mode\":\"markers+text\",\"showlegend\":false,\"text\":[\"donkey\"],\"textposition\":\"top center\",\"x\":[0.19540913639166668],\"y\":[0.10616327964719036],\"z\":[-0.07698687666792567],\"type\":\"scatter3d\"},{\"marker\":{\"color\":\"blue\",\"size\":5},\"mode\":\"markers+text\",\"showlegend\":false,\"text\":[\"ram\"],\"textposition\":\"top center\",\"x\":[0.14855468205762967],\"y\":[0.13213632873045744],\"z\":[-0.028656706995902483],\"type\":\"scatter3d\"},{\"marker\":{\"color\":\"blue\",\"size\":5},\"mode\":\"markers+text\",\"showlegend\":false,\"text\":[\"pig\"],\"textposition\":\"top center\",\"x\":[0.022735642175984293],\"y\":[0.08530865282543915],\"z\":[-0.07554396094414582],\"type\":\"scatter3d\"},{\"marker\":{\"color\":\"black\",\"size\":5},\"mode\":\"markers+text\",\"showlegend\":false,\"text\":[\"kitten\"],\"textposition\":\"top center\",\"x\":[0.10743006926365489],\"y\":[0.15099661939255837],\"z\":[-0.12823923641974944],\"type\":\"scatter3d\"},{\"marker\":{\"color\":\"black\",\"size\":5},\"mode\":\"markers+text\",\"showlegend\":false,\"text\":[\"dog\"],\"textposition\":\"top center\",\"x\":[0.16480947976548624],\"y\":[0.12597230211505006],\"z\":[-0.12262720195784267],\"type\":\"scatter3d\"},{\"marker\":{\"color\":\"black\",\"size\":5},\"mode\":\"markers+text\",\"showlegend\":false,\"text\":[\"cat\"],\"textposition\":\"top center\",\"x\":[0.11814100623789427],\"y\":[0.15465979572668434],\"z\":[-0.10899398539792825],\"type\":\"scatter3d\"},{\"marker\":{\"color\":\"black\",\"size\":5},\"mode\":\"markers+text\",\"showlegend\":false,\"text\":[\"puppy\"],\"textposition\":\"top center\",\"x\":[0.13745093574493197],\"y\":[0.17306744356843798],\"z\":[-0.13257133082560013],\"type\":\"scatter3d\"},{\"marker\":{\"color\":\"green\",\"size\":5},\"mode\":\"markers+text\",\"showlegend\":false,\"text\":[\"mouse\"],\"textposition\":\"top center\",\"x\":[-0.12440025997871379],\"y\":[-0.03399492133043775],\"z\":[0.010411042821605671],\"type\":\"scatter3d\"},{\"marker\":{\"color\":\"green\",\"size\":5},\"mode\":\"markers+text\",\"showlegend\":false,\"text\":[\"computer mouse\"],\"textposition\":\"top center\",\"x\":[-0.1319175291517404],\"y\":[-0.020747691519168197],\"z\":[0.013185845145237296],\"type\":\"scatter3d\"},{\"marker\":{\"color\":\"green\",\"size\":5},\"mode\":\"markers+text\",\"showlegend\":false,\"text\":[\"mousepad\"],\"textposition\":\"top center\",\"x\":[-0.12790707388655753],\"y\":[-0.05133274103987173],\"z\":[0.02553635954451968],\"type\":\"scatter3d\"},{\"marker\":{\"color\":\"yellow\",\"size\":5},\"mode\":\"markers+text\",\"showlegend\":false,\"text\":[\"horse\"],\"textposition\":\"top center\",\"x\":[0.22375631110757332],\"y\":[0.08067812010893825],\"z\":[-0.08708312622865395],\"type\":\"scatter3d\"},{\"marker\":{\"color\":\"yellow\",\"size\":5},\"mode\":\"markers+text\",\"showlegend\":false,\"text\":[\"pony\"],\"textposition\":\"top center\",\"x\":[0.16504522541235464],\"y\":[0.10417366307819628],\"z\":[-0.10890728394044358],\"type\":\"scatter3d\"},{\"legendgroup\":\"Flying animal\",\"marker\":{\"color\":\"red\",\"size\":5},\"mode\":\"markers+text\",\"name\":\"Flying animal\",\"text\":[\"Flying animal\"],\"x\":[null],\"y\":[null],\"z\":[null],\"type\":\"scatter3d\"},{\"legendgroup\":\"'Farm' animal\",\"marker\":{\"color\":\"blue\",\"size\":5},\"mode\":\"markers+text\",\"name\":\"'Farm' animal\",\"text\":[\"'Farm' animal\"],\"x\":[null],\"y\":[null],\"z\":[null],\"type\":\"scatter3d\"},{\"legendgroup\":\"'Thing' animal\",\"marker\":{\"color\":\"green\",\"size\":5},\"mode\":\"markers+text\",\"name\":\"'Thing' animal\",\"text\":[\"'Thing' animal\"],\"x\":[null],\"y\":[null],\"z\":[null],\"type\":\"scatter3d\"},{\"legendgroup\":\"'Pet' animal\",\"marker\":{\"color\":\"black\",\"size\":5},\"mode\":\"markers+text\",\"name\":\"'Pet' animal\",\"text\":[\"'Pet' animal\"],\"x\":[null],\"y\":[null],\"z\":[null],\"type\":\"scatter3d\"},{\"legendgroup\":\"'Riding' animal\",\"marker\":{\"color\":\"yellow\",\"size\":5},\"mode\":\"markers+text\",\"name\":\"'Riding' animal\",\"text\":[\"'Riding' animal\"],\"x\":[null],\"y\":[null],\"z\":[null],\"type\":\"scatter3d\"},{\"legendgroup\":\"'Meal' animal\",\"marker\":{\"color\":\"pink\",\"size\":5},\"mode\":\"markers+text\",\"name\":\"'Meal' animal\",\"text\":[\"'Meal' animal\"],\"x\":[null],\"y\":[null],\"z\":[null],\"type\":\"scatter3d\"}],                        {\"template\":{\"data\":{\"histogram2dcontour\":[{\"type\":\"histogram2dcontour\",\"colorbar\":{\"outlinewidth\":0,\"ticks\":\"\"},\"colorscale\":[[0.0,\"#0d0887\"],[0.1111111111111111,\"#46039f\"],[0.2222222222222222,\"#7201a8\"],[0.3333333333333333,\"#9c179e\"],[0.4444444444444444,\"#bd3786\"],[0.5555555555555556,\"#d8576b\"],[0.6666666666666666,\"#ed7953\"],[0.7777777777777778,\"#fb9f3a\"],[0.8888888888888888,\"#fdca26\"],[1.0,\"#f0f921\"]]}],\"choropleth\":[{\"type\":\"choropleth\",\"colorbar\":{\"outlinewidth\":0,\"ticks\":\"\"}}],\"histogram2d\":[{\"type\":\"histogram2d\",\"colorbar\":{\"outlinewidth\":0,\"ticks\":\"\"},\"colorscale\":[[0.0,\"#0d0887\"],[0.1111111111111111,\"#46039f\"],[0.2222222222222222,\"#7201a8\"],[0.3333333333333333,\"#9c179e\"],[0.4444444444444444,\"#bd3786\"],[0.5555555555555556,\"#d8576b\"],[0.6666666666666666,\"#ed7953\"],[0.7777777777777778,\"#fb9f3a\"],[0.8888888888888888,\"#fdca26\"],[1.0,\"#f0f921\"]]}],\"heatmap\":[{\"type\":\"heatmap\",\"colorbar\":{\"outlinewidth\":0,\"ticks\":\"\"},\"colorscale\":[[0.0,\"#0d0887\"],[0.1111111111111111,\"#46039f\"],[0.2222222222222222,\"#7201a8\"],[0.3333333333333333,\"#9c179e\"],[0.4444444444444444,\"#bd3786\"],[0.5555555555555556,\"#d8576b\"],[0.6666666666666666,\"#ed7953\"],[0.7777777777777778,\"#fb9f3a\"],[0.8888888888888888,\"#fdca26\"],[1.0,\"#f0f921\"]]}],\"heatmapgl\":[{\"type\":\"heatmapgl\",\"colorbar\":{\"outlinewidth\":0,\"ticks\":\"\"},\"colorscale\":[[0.0,\"#0d0887\"],[0.1111111111111111,\"#46039f\"],[0.2222222222222222,\"#7201a8\"],[0.3333333333333333,\"#9c179e\"],[0.4444444444444444,\"#bd3786\"],[0.5555555555555556,\"#d8576b\"],[0.6666666666666666,\"#ed7953\"],[0.7777777777777778,\"#fb9f3a\"],[0.8888888888888888,\"#fdca26\"],[1.0,\"#f0f921\"]]}],\"contourcarpet\":[{\"type\":\"contourcarpet\",\"colorbar\":{\"outlinewidth\":0,\"ticks\":\"\"}}],\"contour\":[{\"type\":\"contour\",\"colorbar\":{\"outlinewidth\":0,\"ticks\":\"\"},\"colorscale\":[[0.0,\"#0d0887\"],[0.1111111111111111,\"#46039f\"],[0.2222222222222222,\"#7201a8\"],[0.3333333333333333,\"#9c179e\"],[0.4444444444444444,\"#bd3786\"],[0.5555555555555556,\"#d8576b\"],[0.6666666666666666,\"#ed7953\"],[0.7777777777777778,\"#fb9f3a\"],[0.8888888888888888,\"#fdca26\"],[1.0,\"#f0f921\"]]}],\"surface\":[{\"type\":\"surface\",\"colorbar\":{\"outlinewidth\":0,\"ticks\":\"\"},\"colorscale\":[[0.0,\"#0d0887\"],[0.1111111111111111,\"#46039f\"],[0.2222222222222222,\"#7201a8\"],[0.3333333333333333,\"#9c179e\"],[0.4444444444444444,\"#bd3786\"],[0.5555555555555556,\"#d8576b\"],[0.6666666666666666,\"#ed7953\"],[0.7777777777777778,\"#fb9f3a\"],[0.8888888888888888,\"#fdca26\"],[1.0,\"#f0f921\"]]}],\"mesh3d\":[{\"type\":\"mesh3d\",\"colorbar\":{\"outlinewidth\":0,\"ticks\":\"\"}}],\"scatter\":[{\"fillpattern\":{\"fillmode\":\"overlay\",\"size\":10,\"solidity\":0.2},\"type\":\"scatter\"}],\"parcoords\":[{\"type\":\"parcoords\",\"line\":{\"colorbar\":{\"outlinewidth\":0,\"ticks\":\"\"}}}],\"scatterpolargl\":[{\"type\":\"scatterpolargl\",\"marker\":{\"colorbar\":{\"outlinewidth\":0,\"ticks\":\"\"}}}],\"bar\":[{\"error_x\":{\"color\":\"#2a3f5f\"},\"error_y\":{\"color\":\"#2a3f5f\"},\"marker\":{\"line\":{\"color\":\"#E5ECF6\",\"width\":0.5},\"pattern\":{\"fillmode\":\"overlay\",\"size\":10,\"solidity\":0.2}},\"type\":\"bar\"}],\"scattergeo\":[{\"type\":\"scattergeo\",\"marker\":{\"colorbar\":{\"outlinewidth\":0,\"ticks\":\"\"}}}],\"scatterpolar\":[{\"type\":\"scatterpolar\",\"marker\":{\"colorbar\":{\"outlinewidth\":0,\"ticks\":\"\"}}}],\"histogram\":[{\"marker\":{\"pattern\":{\"fillmode\":\"overlay\",\"size\":10,\"solidity\":0.2}},\"type\":\"histogram\"}],\"scattergl\":[{\"type\":\"scattergl\",\"marker\":{\"colorbar\":{\"outlinewidth\":0,\"ticks\":\"\"}}}],\"scatter3d\":[{\"type\":\"scatter3d\",\"line\":{\"colorbar\":{\"outlinewidth\":0,\"ticks\":\"\"}},\"marker\":{\"colorbar\":{\"outlinewidth\":0,\"ticks\":\"\"}}}],\"scattermapbox\":[{\"type\":\"scattermapbox\",\"marker\":{\"colorbar\":{\"outlinewidth\":0,\"ticks\":\"\"}}}],\"scatterternary\":[{\"type\":\"scatterternary\",\"marker\":{\"colorbar\":{\"outlinewidth\":0,\"ticks\":\"\"}}}],\"scattercarpet\":[{\"type\":\"scattercarpet\",\"marker\":{\"colorbar\":{\"outlinewidth\":0,\"ticks\":\"\"}}}],\"carpet\":[{\"aaxis\":{\"endlinecolor\":\"#2a3f5f\",\"gridcolor\":\"white\",\"linecolor\":\"white\",\"minorgridcolor\":\"white\",\"startlinecolor\":\"#2a3f5f\"},\"baxis\":{\"endlinecolor\":\"#2a3f5f\",\"gridcolor\":\"white\",\"linecolor\":\"white\",\"minorgridcolor\":\"white\",\"startlinecolor\":\"#2a3f5f\"},\"type\":\"carpet\"}],\"table\":[{\"cells\":{\"fill\":{\"color\":\"#EBF0F8\"},\"line\":{\"color\":\"white\"}},\"header\":{\"fill\":{\"color\":\"#C8D4E3\"},\"line\":{\"color\":\"white\"}},\"type\":\"table\"}],\"barpolar\":[{\"marker\":{\"line\":{\"color\":\"#E5ECF6\",\"width\":0.5},\"pattern\":{\"fillmode\":\"overlay\",\"size\":10,\"solidity\":0.2}},\"type\":\"barpolar\"}],\"pie\":[{\"automargin\":true,\"type\":\"pie\"}]},\"layout\":{\"autotypenumbers\":\"strict\",\"colorway\":[\"#636efa\",\"#EF553B\",\"#00cc96\",\"#ab63fa\",\"#FFA15A\",\"#19d3f3\",\"#FF6692\",\"#B6E880\",\"#FF97FF\",\"#FECB52\"],\"font\":{\"color\":\"#2a3f5f\"},\"hovermode\":\"closest\",\"hoverlabel\":{\"align\":\"left\"},\"paper_bgcolor\":\"white\",\"plot_bgcolor\":\"#E5ECF6\",\"polar\":{\"bgcolor\":\"#E5ECF6\",\"angularaxis\":{\"gridcolor\":\"white\",\"linecolor\":\"white\",\"ticks\":\"\"},\"radialaxis\":{\"gridcolor\":\"white\",\"linecolor\":\"white\",\"ticks\":\"\"}},\"ternary\":{\"bgcolor\":\"#E5ECF6\",\"aaxis\":{\"gridcolor\":\"white\",\"linecolor\":\"white\",\"ticks\":\"\"},\"baxis\":{\"gridcolor\":\"white\",\"linecolor\":\"white\",\"ticks\":\"\"},\"caxis\":{\"gridcolor\":\"white\",\"linecolor\":\"white\",\"ticks\":\"\"}},\"coloraxis\":{\"colorbar\":{\"outlinewidth\":0,\"ticks\":\"\"}},\"colorscale\":{\"sequential\":[[0.0,\"#0d0887\"],[0.1111111111111111,\"#46039f\"],[0.2222222222222222,\"#7201a8\"],[0.3333333333333333,\"#9c179e\"],[0.4444444444444444,\"#bd3786\"],[0.5555555555555556,\"#d8576b\"],[0.6666666666666666,\"#ed7953\"],[0.7777777777777778,\"#fb9f3a\"],[0.8888888888888888,\"#fdca26\"],[1.0,\"#f0f921\"]],\"sequentialminus\":[[0.0,\"#0d0887\"],[0.1111111111111111,\"#46039f\"],[0.2222222222222222,\"#7201a8\"],[0.3333333333333333,\"#9c179e\"],[0.4444444444444444,\"#bd3786\"],[0.5555555555555556,\"#d8576b\"],[0.6666666666666666,\"#ed7953\"],[0.7777777777777778,\"#fb9f3a\"],[0.8888888888888888,\"#fdca26\"],[1.0,\"#f0f921\"]],\"diverging\":[[0,\"#8e0152\"],[0.1,\"#c51b7d\"],[0.2,\"#de77ae\"],[0.3,\"#f1b6da\"],[0.4,\"#fde0ef\"],[0.5,\"#f7f7f7\"],[0.6,\"#e6f5d0\"],[0.7,\"#b8e186\"],[0.8,\"#7fbc41\"],[0.9,\"#4d9221\"],[1,\"#276419\"]]},\"xaxis\":{\"gridcolor\":\"white\",\"linecolor\":\"white\",\"ticks\":\"\",\"title\":{\"standoff\":15},\"zerolinecolor\":\"white\",\"automargin\":true,\"zerolinewidth\":2},\"yaxis\":{\"gridcolor\":\"white\",\"linecolor\":\"white\",\"ticks\":\"\",\"title\":{\"standoff\":15},\"zerolinecolor\":\"white\",\"automargin\":true,\"zerolinewidth\":2},\"scene\":{\"xaxis\":{\"backgroundcolor\":\"#E5ECF6\",\"gridcolor\":\"white\",\"linecolor\":\"white\",\"showbackground\":true,\"ticks\":\"\",\"zerolinecolor\":\"white\",\"gridwidth\":2},\"yaxis\":{\"backgroundcolor\":\"#E5ECF6\",\"gridcolor\":\"white\",\"linecolor\":\"white\",\"showbackground\":true,\"ticks\":\"\",\"zerolinecolor\":\"white\",\"gridwidth\":2},\"zaxis\":{\"backgroundcolor\":\"#E5ECF6\",\"gridcolor\":\"white\",\"linecolor\":\"white\",\"showbackground\":true,\"ticks\":\"\",\"zerolinecolor\":\"white\",\"gridwidth\":2}},\"shapedefaults\":{\"line\":{\"color\":\"#2a3f5f\"}},\"annotationdefaults\":{\"arrowcolor\":\"#2a3f5f\",\"arrowhead\":0,\"arrowwidth\":1},\"geo\":{\"bgcolor\":\"white\",\"landcolor\":\"#E5ECF6\",\"subunitcolor\":\"white\",\"showland\":true,\"showlakes\":true,\"lakecolor\":\"white\"},\"title\":{\"x\":0.05},\"mapbox\":{\"style\":\"light\"}}},\"scene\":{\"xaxis\":{\"range\":[-0.24379568470552707,0.33563446666136]},\"yaxis\":{\"range\":[-0.18750694950147453,0.40852262538480844]},\"zaxis\":{\"range\":[-0.14533951059785996,0.03830453931677952]},\"aspectmode\":\"cube\"}},                        {\"responsive\": true}                    ).then(function(){\n",
              "                            \n",
              "var gd = document.getElementById('0f03f12d-8f3d-4e6f-aa22-f8fe8b7020e7');\n",
              "var x = new MutationObserver(function (mutations, observer) {{\n",
              "        var display = window.getComputedStyle(gd).display;\n",
              "        if (!display || display === 'none') {{\n",
              "            console.log([gd, 'removed!']);\n",
              "            Plotly.purge(gd);\n",
              "            observer.disconnect();\n",
              "        }}\n",
              "}});\n",
              "\n",
              "// Listen for the removal of the full notebook cells\n",
              "var notebookContainer = gd.closest('#notebook-container');\n",
              "if (notebookContainer) {{\n",
              "    x.observe(notebookContainer, {childList: true});\n",
              "}}\n",
              "\n",
              "// Listen for the clearing of the current output cell\n",
              "var outputEl = gd.closest('.output');\n",
              "if (outputEl) {{\n",
              "    x.observe(outputEl, {childList: true});\n",
              "}}\n",
              "\n",
              "                        })                };                            </script>        </div>\n",
              "</body>\n",
              "</html>"
            ]
          },
          "metadata": {}
        }
      ],
      "source": [
        "visualize_3d_interactive(flying_animals\n",
        "                            +meal_animals\n",
        "                            +farm_animals\n",
        "                            +pet_animals\n",
        "                            +thing_animals\n",
        "                            +riding_animals,\n",
        "                         reduced_obj_space_3d,\n",
        "                         domains,\n",
        "                         \"plot_of_our_categories\")"
      ]
    },
    {
      "cell_type": "markdown",
      "metadata": {
        "id": "ugDTkGIDpgy_"
      },
      "source": [
        "The visualization on a 2d plot is a bit harder due to the high number of samples, but we can also distinguish the different categories"
      ]
    },
    {
      "cell_type": "code",
      "execution_count": 17,
      "metadata": {
        "colab": {
          "base_uri": "https://localhost:8080/",
          "height": 599
        },
        "id": "gPPnMTInCnzt",
        "outputId": "31f8d86d-6718-4beb-d4a8-c9a6eaca5bbb"
      },
      "outputs": [
        {
          "output_type": "display_data",
          "data": {
            "text/plain": [
              "<Figure size 1200x700 with 1 Axes>"
            ],
            "image/png": "[encoded data removed]"
          },
          "metadata": {}
        }
      ],
      "source": [
        "visualize(flying_animals\n",
        "          +meal_animals\n",
        "          +farm_animals\n",
        "          +pet_animals\n",
        "          +thing_animals\n",
        "          +riding_animals, reduced_obj_space_2d, domains)"
      ]
    },
    {
      "cell_type": "code",
      "execution_count": 18,
      "metadata": {
        "colab": {
          "base_uri": "https://localhost:8080/"
        },
        "id": "xzsmFfwsmiUN",
        "outputId": "39590e33-a11d-4b41-f3be-8d9d16d4348d"
      },
      "outputs": [
        {
          "output_type": "stream",
          "name": "stdout",
          "text": [
            "Nearest neighbors for the outlier 'pig':\n",
            "    muzzle\n",
            "    backside\n",
            "    toy\n",
            "    heads\n",
            "    down\n",
            "    behind\n",
            "    body\n",
            "    standing\n",
            "    snout\n",
            "\n",
            "Nearest neighbors for 'pony':\n",
            "    donkey\n",
            "    horse\n",
            "    horses\n",
            "    calf\n",
            "    animals\n",
            "    animal\n",
            "    reigns\n",
            "    bridle\n",
            "    halter\n",
            "\n",
            "Nearest neighbors for 'calf':\n",
            "    cow\n",
            "    cows\n",
            "    cattle\n",
            "    bull\n",
            "    goat\n",
            "    goats\n",
            "    animal\n",
            "    animals\n",
            "    donkey\n"
          ]
        }
      ],
      "source": [
        "print(\"Nearest neighbors for the outlier 'pig':\")\n",
        "for nn in get_nearest_neighbors('pig', 10, clip_obj_prototypes):\n",
        "  print(f\"    {nn}\")\n",
        "\n",
        "print()\n",
        "print(\"Nearest neighbors for 'pony':\")\n",
        "for nn in get_nearest_neighbors('pony', 10, clip_obj_prototypes):\n",
        "  print(f\"    {nn}\")\n",
        "\n",
        "print()\n",
        "print(\"Nearest neighbors for 'calf':\")\n",
        "for nn in get_nearest_neighbors('calf', 10, clip_obj_prototypes):\n",
        "  print(f\"    {nn}\")"
      ]
    },
    {
      "cell_type": "markdown",
      "metadata": {
        "id": "wqk3-cmpOUFQ"
      },
      "source": [
        "### Alternative hypothesis"
      ]
    },
    {
      "cell_type": "markdown",
      "metadata": {
        "id": "ZS5SJ1gupxUY"
      },
      "source": [
        "We also looked at other hypotheses, such as gender biases which may be amplified due to the images used to train these models. Unfortunately, the differences in the distances between man and women with regards to a given topic, although noticeable, are not significant enough to be visible in 2d or 3d plots."
      ]
    },
    {
      "cell_type": "code",
      "execution_count": 19,
      "metadata": {
        "colab": {
          "base_uri": "https://localhost:8080/"
        },
        "id": "UGU7RFxgpwg1",
        "outputId": "f3eddb62-b313-4569-8f4f-d54fb97d5ee4"
      },
      "outputs": [
        {
          "output_type": "stream",
          "name": "stdout",
          "text": [
            "Similarity between soldier and man: 0.9449900176411913\n",
            "Similarity between soldier and woman: 0.9299816136478173\n",
            "\n",
            "Similarity between snowboarder and man: 0.9402799232816418\n",
            "Similarity between snowboarder and woman: 0.9086357230645103\n",
            "\n",
            "Similarity between blonde and man: 0.9416569361564356\n",
            "Similarity between blonde and woman: 0.9676917342847616\n",
            "\n",
            "Similarity between suit and man: 0.982112893432586\n",
            "Similarity between suit and woman: 0.9694929122021052\n"
          ]
        }
      ],
      "source": [
        "print(f\"Similarity between soldier and man: {cosine_similarity(clip_obj_prototypes['soldier'], clip_obj_prototypes['man'])}\")\n",
        "print(f\"Similarity between soldier and woman: {cosine_similarity(clip_obj_prototypes['soldier'], clip_obj_prototypes['woman'])}\")\n",
        "print()\n",
        "print(f\"Similarity between snowboarder and man: {cosine_similarity(clip_obj_prototypes['snowboarder'], clip_obj_prototypes['man'])}\")\n",
        "print(f\"Similarity between snowboarder and woman: {cosine_similarity(clip_obj_prototypes['snowboarder'], clip_obj_prototypes['woman'])}\")\n",
        "print()\n",
        "print(f\"Similarity between blonde and man: {cosine_similarity(clip_obj_prototypes['blonde'], clip_obj_prototypes['man'])}\")\n",
        "print(f\"Similarity between blonde and woman: {cosine_similarity(clip_obj_prototypes['blonde'], clip_obj_prototypes['woman'])}\")\n",
        "print()\n",
        "print(f\"Similarity between suit and man: {cosine_similarity(clip_obj_prototypes['suit'], clip_obj_prototypes['man'])}\")\n",
        "print(f\"Similarity between suit and woman: {cosine_similarity(clip_obj_prototypes['suit'], clip_obj_prototypes['woman'])}\")"
      ]
    },
    {
      "cell_type": "markdown",
      "metadata": {
        "id": "JGsx2uStqOnh"
      },
      "source": [
        "## Quantitative analysis"
      ]
    },
    {
      "cell_type": "markdown",
      "metadata": {
        "id": "au_r2SaGqZCc"
      },
      "source": [
        "Another way to test the similarity between the groups is to try to cluster all samples via KMeans, or to check the nearest neighbors of each one via K-nearest neighbors. This will indicate if the categories we have set up manually are similar to those we would obtain with a clustering algorithm."
      ]
    },
    {
      "cell_type": "markdown",
      "metadata": {
        "id": "EzUdMnO6YAQm"
      },
      "source": [
        "### Quantitative analysis with KMeans"
      ]
    },
    {
      "cell_type": "markdown",
      "metadata": {
        "id": "l4X5fnbK6i3-"
      },
      "source": [
        "We calculate the similarity between its clusters and our categories (which can be seen as a ground truth clustering) via the Jaccard similarity of sets, which returns a value between 0.0 (unrelated) to 1.0 (identical).\n",
        "\n",
        "We average this similarity across 1000 executions of the KMeans algorithm in order to compensate for its variance.\n",
        "\n",
        "Due to the categories being visibly separable in the 2d and 3d plots, we expect a score close to 1.0, which is what we obtain (~0.80)"
      ]
    },
    {
      "cell_type": "code",
      "execution_count": 20,
      "metadata": {
        "colab": {
          "base_uri": "https://localhost:8080/"
        },
        "id": "CIOSJPa070iL",
        "outputId": "ed5e897a-d3d1-46e7-b9b0-f02c15dc6492"
      },
      "outputs": [
        {
          "output_type": "stream",
          "name": "stdout",
          "text": [
            "0.8127615981240957\n"
          ]
        }
      ],
      "source": [
        "def jaccard_similarity(set1, set2):\n",
        "    intersection = set1.intersection(set2)\n",
        "    union = set1.union(set2)\n",
        "    return len(intersection) / len(union) if len(union) != 0 else 0\n",
        "\n",
        "names = flying_animals + meal_animals + farm_animals + pet_animals + thing_animals + riding_animals\n",
        "n_clusters = 6\n",
        "\n",
        "\n",
        "jaccard_values = []\n",
        "for i in range(1000):\n",
        "    embeddings = [prototypes[n] for n in names]\n",
        "    kmeans = KMeans(n_clusters, n_init='auto').fit(embeddings)\n",
        "\n",
        "    kmeans_clusters = {} # Categories generated by the KMeans algorithm\n",
        "    for i, label in enumerate(kmeans.labels_):\n",
        "        if label not in kmeans_clusters:\n",
        "            kmeans_clusters[label] = set()\n",
        "\n",
        "        kmeans_clusters[label].add(names[i])\n",
        "\n",
        "    # Since we don't know the correspondences between our categories and the\n",
        "    # clusters, we calculate the Jaccard similarities between all distinct pairs\n",
        "    # of (category, cluster) and choose the maximum similarity for each of our own\n",
        "    # categories, calculating the average across them all afterwards\n",
        "    jaccard_sum = 0\n",
        "    for category in all_categories:\n",
        "        max_jaccard = 0\n",
        "        for _, kmeans_cluster in kmeans_clusters.items():\n",
        "            jaccard = jaccard_similarity(set(category), kmeans_cluster)\n",
        "            if jaccard > max_jaccard:\n",
        "                max_jaccard = jaccard\n",
        "\n",
        "        jaccard_sum += max_jaccard\n",
        "\n",
        "    average_jaccard = jaccard_sum / len(all_categories)\n",
        "    jaccard_values.append(average_jaccard)\n",
        "\n",
        "average_jaccard = sum(jaccard_values) / len(jaccard_values)\n",
        "print(average_jaccard)"
      ]
    },
    {
      "cell_type": "markdown",
      "metadata": {
        "id": "1m5SSxPe-KuE"
      },
      "source": [
        "We can also visualize the results of a KMeans run. One notable difference with our categories is that 'pig' tends to be mistakenly associated with the 'Flying animals' category, while 'pony' and 'dog' vary a lot between different executions."
      ]
    },
    {
      "cell_type": "code",
      "execution_count": 21,
      "metadata": {
        "colab": {
          "base_uri": "https://localhost:8080/",
          "height": 542
        },
        "id": "--Os0zYu2daF",
        "outputId": "aafd8cef-04f6-4837-bd4f-55b994f4621b"
      },
      "outputs": [
        {
          "output_type": "display_data",
          "data": {
            "text/html": [
              "<html>\n",
              "<head><meta charset=\"utf-8\" /></head>\n",
              "<body>\n",
              "    <div>            <script src=\"https://cdnjs.cloudflare.com/ajax/libs/mathjax/2.7.5/MathJax.js?config=TeX-AMS-MML_SVG\"></script><script type=\"text/javascript\">if (window.MathJax && window.MathJax.Hub && window.MathJax.Hub.Config) {window.MathJax.Hub.Config({SVG: {font: \"STIX-Web\"}});}</script>                <script type=\"text/javascript\">window.PlotlyConfig = {MathJaxConfig: 'local'};</script>\n",
              "        <script charset=\"utf-8\" src=\"https://cdn.plot.ly/plotly-2.24.1.min.js\"></script>                <div id=\"173eed3b-f753-4e35-ba0a-fd7557e67845\" class=\"plotly-graph-div\" style=\"height:525px; width:100%;\"></div>            <script type=\"text/javascript\">                                    window.PLOTLYENV=window.PLOTLYENV || {};                                    if (document.getElementById(\"173eed3b-f753-4e35-ba0a-fd7557e67845\")) {                    Plotly.newPlot(                        \"173eed3b-f753-4e35-ba0a-fd7557e67845\",                        [{\"marker\":{\"color\":\"black\",\"size\":5},\"mode\":\"markers+text\",\"showlegend\":false,\"text\":[\"owl\"],\"textposition\":\"top center\",\"x\":[0.048486851361812695],\"y\":[0.0856887253181148],\"z\":[-0.05256468134139938],\"type\":\"scatter3d\"},{\"marker\":{\"color\":\"black\",\"size\":5},\"mode\":\"markers+text\",\"showlegend\":false,\"text\":[\"seagull\"],\"textposition\":\"top center\",\"x\":[0.07583157978157469],\"y\":[0.0469974252056216],\"z\":[0.0007819596445252497],\"type\":\"scatter3d\"},{\"marker\":{\"color\":\"black\",\"size\":5},\"mode\":\"markers+text\",\"showlegend\":false,\"text\":[\"goose\"],\"textposition\":\"top center\",\"x\":[0.06162839171064365],\"y\":[0.06806418399934216],\"z\":[-0.04618174272154557],\"type\":\"scatter3d\"},{\"marker\":{\"color\":\"black\",\"size\":5},\"mode\":\"markers+text\",\"showlegend\":false,\"text\":[\"duck\"],\"textposition\":\"top center\",\"x\":[0.06417456163677143],\"y\":[0.08935156953479494],\"z\":[-0.04139126960118796],\"type\":\"scatter3d\"},{\"marker\":{\"color\":\"black\",\"size\":5},\"mode\":\"markers+text\",\"showlegend\":false,\"text\":[\"pigeon\"],\"textposition\":\"top center\",\"x\":[0.0548440015496899],\"y\":[0.06231102940421902],\"z\":[-0.037746228982500185],\"type\":\"scatter3d\"},{\"marker\":{\"color\":\"black\",\"size\":5},\"mode\":\"markers+text\",\"showlegend\":false,\"text\":[\"swan\"],\"textposition\":\"top center\",\"x\":[0.033398504570178414],\"y\":[0.06110090841189892],\"z\":[-0.020747573425557494],\"type\":\"scatter3d\"},{\"marker\":{\"color\":\"blue\",\"size\":5},\"mode\":\"markers+text\",\"showlegend\":false,\"text\":[\"turkey\"],\"textposition\":\"top center\",\"x\":[-0.05763126769805534],\"y\":[0.2087826403202345],\"z\":[-0.007718254438275735],\"type\":\"scatter3d\"},{\"marker\":{\"color\":\"blue\",\"size\":5},\"mode\":\"markers+text\",\"showlegend\":false,\"text\":[\"fish\"],\"textposition\":\"top center\",\"x\":[-0.057214218580314724],\"y\":[0.17963284789732062],\"z\":[0.024020502997459177],\"type\":\"scatter3d\"},{\"marker\":{\"color\":\"blue\",\"size\":5},\"mode\":\"markers+text\",\"showlegend\":false,\"text\":[\"chicken\"],\"textposition\":\"top center\",\"x\":[-0.07987549127720028],\"y\":[0.2723484169232056],\"z\":[0.014614238972874342],\"type\":\"scatter3d\"},{\"marker\":{\"color\":\"blue\",\"size\":5},\"mode\":\"markers+text\",\"showlegend\":false,\"text\":[\"shrimp\"],\"textposition\":\"top center\",\"x\":[-0.12066552181781283],\"y\":[0.24342101978348288],\"z\":[0.001206354773802528],\"type\":\"scatter3d\"},{\"marker\":{\"color\":\"red\",\"size\":5},\"mode\":\"markers+text\",\"showlegend\":false,\"text\":[\"cow\"],\"textposition\":\"top center\",\"x\":[0.15038002514794335],\"y\":[0.1383839273415163],\"z\":[-0.044817810060990046],\"type\":\"scatter3d\"},{\"marker\":{\"color\":\"red\",\"size\":5},\"mode\":\"markers+text\",\"showlegend\":false,\"text\":[\"bull\"],\"textposition\":\"top center\",\"x\":[0.18172709919390467],\"y\":[0.13991912880665733],\"z\":[-0.03842913484192342],\"type\":\"scatter3d\"},{\"marker\":{\"color\":\"yellow\",\"size\":5},\"mode\":\"markers+text\",\"showlegend\":false,\"text\":[\"calf\"],\"textposition\":\"top center\",\"x\":[0.12350855761201432],\"y\":[0.11145087641828101],\"z\":[-0.09253057931247025],\"type\":\"scatter3d\"},{\"marker\":{\"color\":\"red\",\"size\":5},\"mode\":\"markers+text\",\"showlegend\":false,\"text\":[\"sheep\"],\"textposition\":\"top center\",\"x\":[0.1174460021340856],\"y\":[0.13495195126086942],\"z\":[-0.04358402280901408],\"type\":\"scatter3d\"},{\"marker\":{\"color\":\"red\",\"size\":5},\"mode\":\"markers+text\",\"showlegend\":false,\"text\":[\"goat\"],\"textposition\":\"top center\",\"x\":[0.14044265974194536],\"y\":[0.13859789933434438],\"z\":[-0.05921855576176644],\"type\":\"scatter3d\"},{\"marker\":{\"color\":\"pink\",\"size\":5},\"mode\":\"markers+text\",\"showlegend\":false,\"text\":[\"donkey\"],\"textposition\":\"top center\",\"x\":[0.19540913639166668],\"y\":[0.10616327964719036],\"z\":[-0.07698687666792567],\"type\":\"scatter3d\"},{\"marker\":{\"color\":\"red\",\"size\":5},\"mode\":\"markers+text\",\"showlegend\":false,\"text\":[\"ram\"],\"textposition\":\"top center\",\"x\":[0.14855468205762967],\"y\":[0.13213632873045744],\"z\":[-0.028656706995902483],\"type\":\"scatter3d\"},{\"marker\":{\"color\":\"black\",\"size\":5},\"mode\":\"markers+text\",\"showlegend\":false,\"text\":[\"pig\"],\"textposition\":\"top center\",\"x\":[0.022735642175984293],\"y\":[0.08530865282543915],\"z\":[-0.07554396094414582],\"type\":\"scatter3d\"},{\"marker\":{\"color\":\"yellow\",\"size\":5},\"mode\":\"markers+text\",\"showlegend\":false,\"text\":[\"kitten\"],\"textposition\":\"top center\",\"x\":[0.10743006926365489],\"y\":[0.15099661939255837],\"z\":[-0.12823923641974944],\"type\":\"scatter3d\"},{\"marker\":{\"color\":\"yellow\",\"size\":5},\"mode\":\"markers+text\",\"showlegend\":false,\"text\":[\"dog\"],\"textposition\":\"top center\",\"x\":[0.16480947976548624],\"y\":[0.12597230211505006],\"z\":[-0.12262720195784267],\"type\":\"scatter3d\"},{\"marker\":{\"color\":\"yellow\",\"size\":5},\"mode\":\"markers+text\",\"showlegend\":false,\"text\":[\"cat\"],\"textposition\":\"top center\",\"x\":[0.11814100623789427],\"y\":[0.15465979572668434],\"z\":[-0.10899398539792825],\"type\":\"scatter3d\"},{\"marker\":{\"color\":\"yellow\",\"size\":5},\"mode\":\"markers+text\",\"showlegend\":false,\"text\":[\"puppy\"],\"textposition\":\"top center\",\"x\":[0.13745093574493197],\"y\":[0.17306744356843798],\"z\":[-0.13257133082560013],\"type\":\"scatter3d\"},{\"marker\":{\"color\":\"green\",\"size\":5},\"mode\":\"markers+text\",\"showlegend\":false,\"text\":[\"mouse\"],\"textposition\":\"top center\",\"x\":[-0.12440025997871379],\"y\":[-0.03399492133043775],\"z\":[0.010411042821605671],\"type\":\"scatter3d\"},{\"marker\":{\"color\":\"green\",\"size\":5},\"mode\":\"markers+text\",\"showlegend\":false,\"text\":[\"computer mouse\"],\"textposition\":\"top center\",\"x\":[-0.1319175291517404],\"y\":[-0.020747691519168197],\"z\":[0.013185845145237296],\"type\":\"scatter3d\"},{\"marker\":{\"color\":\"green\",\"size\":5},\"mode\":\"markers+text\",\"showlegend\":false,\"text\":[\"mousepad\"],\"textposition\":\"top center\",\"x\":[-0.12790707388655753],\"y\":[-0.05133274103987173],\"z\":[0.02553635954451968],\"type\":\"scatter3d\"},{\"marker\":{\"color\":\"pink\",\"size\":5},\"mode\":\"markers+text\",\"showlegend\":false,\"text\":[\"horse\"],\"textposition\":\"top center\",\"x\":[0.22375631110757332],\"y\":[0.08067812010893825],\"z\":[-0.08708312622865395],\"type\":\"scatter3d\"},{\"marker\":{\"color\":\"pink\",\"size\":5},\"mode\":\"markers+text\",\"showlegend\":false,\"text\":[\"pony\"],\"textposition\":\"top center\",\"x\":[0.16504522541235464],\"y\":[0.10417366307819628],\"z\":[-0.10890728394044358],\"type\":\"scatter3d\"},{\"legendgroup\":\"Cluster  5\",\"marker\":{\"color\":\"red\",\"size\":5},\"mode\":\"markers+text\",\"name\":\"Cluster  5\",\"text\":[\"Cluster  5\"],\"x\":[null],\"y\":[null],\"z\":[null],\"type\":\"scatter3d\"},{\"legendgroup\":\"Cluster  1\",\"marker\":{\"color\":\"blue\",\"size\":5},\"mode\":\"markers+text\",\"name\":\"Cluster  1\",\"text\":[\"Cluster  1\"],\"x\":[null],\"y\":[null],\"z\":[null],\"type\":\"scatter3d\"},{\"legendgroup\":\"Cluster  3\",\"marker\":{\"color\":\"green\",\"size\":5},\"mode\":\"markers+text\",\"name\":\"Cluster  3\",\"text\":[\"Cluster  3\"],\"x\":[null],\"y\":[null],\"z\":[null],\"type\":\"scatter3d\"},{\"legendgroup\":\"Cluster  2\",\"marker\":{\"color\":\"black\",\"size\":5},\"mode\":\"markers+text\",\"name\":\"Cluster  2\",\"text\":[\"Cluster  2\"],\"x\":[null],\"y\":[null],\"z\":[null],\"type\":\"scatter3d\"},{\"legendgroup\":\"Cluster  4\",\"marker\":{\"color\":\"yellow\",\"size\":5},\"mode\":\"markers+text\",\"name\":\"Cluster  4\",\"text\":[\"Cluster  4\"],\"x\":[null],\"y\":[null],\"z\":[null],\"type\":\"scatter3d\"},{\"legendgroup\":\"Cluster  0\",\"marker\":{\"color\":\"pink\",\"size\":5},\"mode\":\"markers+text\",\"name\":\"Cluster  0\",\"text\":[\"Cluster  0\"],\"x\":[null],\"y\":[null],\"z\":[null],\"type\":\"scatter3d\"}],                        {\"template\":{\"data\":{\"histogram2dcontour\":[{\"type\":\"histogram2dcontour\",\"colorbar\":{\"outlinewidth\":0,\"ticks\":\"\"},\"colorscale\":[[0.0,\"#0d0887\"],[0.1111111111111111,\"#46039f\"],[0.2222222222222222,\"#7201a8\"],[0.3333333333333333,\"#9c179e\"],[0.4444444444444444,\"#bd3786\"],[0.5555555555555556,\"#d8576b\"],[0.6666666666666666,\"#ed7953\"],[0.7777777777777778,\"#fb9f3a\"],[0.8888888888888888,\"#fdca26\"],[1.0,\"#f0f921\"]]}],\"choropleth\":[{\"type\":\"choropleth\",\"colorbar\":{\"outlinewidth\":0,\"ticks\":\"\"}}],\"histogram2d\":[{\"type\":\"histogram2d\",\"colorbar\":{\"outlinewidth\":0,\"ticks\":\"\"},\"colorscale\":[[0.0,\"#0d0887\"],[0.1111111111111111,\"#46039f\"],[0.2222222222222222,\"#7201a8\"],[0.3333333333333333,\"#9c179e\"],[0.4444444444444444,\"#bd3786\"],[0.5555555555555556,\"#d8576b\"],[0.6666666666666666,\"#ed7953\"],[0.7777777777777778,\"#fb9f3a\"],[0.8888888888888888,\"#fdca26\"],[1.0,\"#f0f921\"]]}],\"heatmap\":[{\"type\":\"heatmap\",\"colorbar\":{\"outlinewidth\":0,\"ticks\":\"\"},\"colorscale\":[[0.0,\"#0d0887\"],[0.1111111111111111,\"#46039f\"],[0.2222222222222222,\"#7201a8\"],[0.3333333333333333,\"#9c179e\"],[0.4444444444444444,\"#bd3786\"],[0.5555555555555556,\"#d8576b\"],[0.6666666666666666,\"#ed7953\"],[0.7777777777777778,\"#fb9f3a\"],[0.8888888888888888,\"#fdca26\"],[1.0,\"#f0f921\"]]}],\"heatmapgl\":[{\"type\":\"heatmapgl\",\"colorbar\":{\"outlinewidth\":0,\"ticks\":\"\"},\"colorscale\":[[0.0,\"#0d0887\"],[0.1111111111111111,\"#46039f\"],[0.2222222222222222,\"#7201a8\"],[0.3333333333333333,\"#9c179e\"],[0.4444444444444444,\"#bd3786\"],[0.5555555555555556,\"#d8576b\"],[0.6666666666666666,\"#ed7953\"],[0.7777777777777778,\"#fb9f3a\"],[0.8888888888888888,\"#fdca26\"],[1.0,\"#f0f921\"]]}],\"contourcarpet\":[{\"type\":\"contourcarpet\",\"colorbar\":{\"outlinewidth\":0,\"ticks\":\"\"}}],\"contour\":[{\"type\":\"contour\",\"colorbar\":{\"outlinewidth\":0,\"ticks\":\"\"},\"colorscale\":[[0.0,\"#0d0887\"],[0.1111111111111111,\"#46039f\"],[0.2222222222222222,\"#7201a8\"],[0.3333333333333333,\"#9c179e\"],[0.4444444444444444,\"#bd3786\"],[0.5555555555555556,\"#d8576b\"],[0.6666666666666666,\"#ed7953\"],[0.7777777777777778,\"#fb9f3a\"],[0.8888888888888888,\"#fdca26\"],[1.0,\"#f0f921\"]]}],\"surface\":[{\"type\":\"surface\",\"colorbar\":{\"outlinewidth\":0,\"ticks\":\"\"},\"colorscale\":[[0.0,\"#0d0887\"],[0.1111111111111111,\"#46039f\"],[0.2222222222222222,\"#7201a8\"],[0.3333333333333333,\"#9c179e\"],[0.4444444444444444,\"#bd3786\"],[0.5555555555555556,\"#d8576b\"],[0.6666666666666666,\"#ed7953\"],[0.7777777777777778,\"#fb9f3a\"],[0.8888888888888888,\"#fdca26\"],[1.0,\"#f0f921\"]]}],\"mesh3d\":[{\"type\":\"mesh3d\",\"colorbar\":{\"outlinewidth\":0,\"ticks\":\"\"}}],\"scatter\":[{\"fillpattern\":{\"fillmode\":\"overlay\",\"size\":10,\"solidity\":0.2},\"type\":\"scatter\"}],\"parcoords\":[{\"type\":\"parcoords\",\"line\":{\"colorbar\":{\"outlinewidth\":0,\"ticks\":\"\"}}}],\"scatterpolargl\":[{\"type\":\"scatterpolargl\",\"marker\":{\"colorbar\":{\"outlinewidth\":0,\"ticks\":\"\"}}}],\"bar\":[{\"error_x\":{\"color\":\"#2a3f5f\"},\"error_y\":{\"color\":\"#2a3f5f\"},\"marker\":{\"line\":{\"color\":\"#E5ECF6\",\"width\":0.5},\"pattern\":{\"fillmode\":\"overlay\",\"size\":10,\"solidity\":0.2}},\"type\":\"bar\"}],\"scattergeo\":[{\"type\":\"scattergeo\",\"marker\":{\"colorbar\":{\"outlinewidth\":0,\"ticks\":\"\"}}}],\"scatterpolar\":[{\"type\":\"scatterpolar\",\"marker\":{\"colorbar\":{\"outlinewidth\":0,\"ticks\":\"\"}}}],\"histogram\":[{\"marker\":{\"pattern\":{\"fillmode\":\"overlay\",\"size\":10,\"solidity\":0.2}},\"type\":\"histogram\"}],\"scattergl\":[{\"type\":\"scattergl\",\"marker\":{\"colorbar\":{\"outlinewidth\":0,\"ticks\":\"\"}}}],\"scatter3d\":[{\"type\":\"scatter3d\",\"line\":{\"colorbar\":{\"outlinewidth\":0,\"ticks\":\"\"}},\"marker\":{\"colorbar\":{\"outlinewidth\":0,\"ticks\":\"\"}}}],\"scattermapbox\":[{\"type\":\"scattermapbox\",\"marker\":{\"colorbar\":{\"outlinewidth\":0,\"ticks\":\"\"}}}],\"scatterternary\":[{\"type\":\"scatterternary\",\"marker\":{\"colorbar\":{\"outlinewidth\":0,\"ticks\":\"\"}}}],\"scattercarpet\":[{\"type\":\"scattercarpet\",\"marker\":{\"colorbar\":{\"outlinewidth\":0,\"ticks\":\"\"}}}],\"carpet\":[{\"aaxis\":{\"endlinecolor\":\"#2a3f5f\",\"gridcolor\":\"white\",\"linecolor\":\"white\",\"minorgridcolor\":\"white\",\"startlinecolor\":\"#2a3f5f\"},\"baxis\":{\"endlinecolor\":\"#2a3f5f\",\"gridcolor\":\"white\",\"linecolor\":\"white\",\"minorgridcolor\":\"white\",\"startlinecolor\":\"#2a3f5f\"},\"type\":\"carpet\"}],\"table\":[{\"cells\":{\"fill\":{\"color\":\"#EBF0F8\"},\"line\":{\"color\":\"white\"}},\"header\":{\"fill\":{\"color\":\"#C8D4E3\"},\"line\":{\"color\":\"white\"}},\"type\":\"table\"}],\"barpolar\":[{\"marker\":{\"line\":{\"color\":\"#E5ECF6\",\"width\":0.5},\"pattern\":{\"fillmode\":\"overlay\",\"size\":10,\"solidity\":0.2}},\"type\":\"barpolar\"}],\"pie\":[{\"automargin\":true,\"type\":\"pie\"}]},\"layout\":{\"autotypenumbers\":\"strict\",\"colorway\":[\"#636efa\",\"#EF553B\",\"#00cc96\",\"#ab63fa\",\"#FFA15A\",\"#19d3f3\",\"#FF6692\",\"#B6E880\",\"#FF97FF\",\"#FECB52\"],\"font\":{\"color\":\"#2a3f5f\"},\"hovermode\":\"closest\",\"hoverlabel\":{\"align\":\"left\"},\"paper_bgcolor\":\"white\",\"plot_bgcolor\":\"#E5ECF6\",\"polar\":{\"bgcolor\":\"#E5ECF6\",\"angularaxis\":{\"gridcolor\":\"white\",\"linecolor\":\"white\",\"ticks\":\"\"},\"radialaxis\":{\"gridcolor\":\"white\",\"linecolor\":\"white\",\"ticks\":\"\"}},\"ternary\":{\"bgcolor\":\"#E5ECF6\",\"aaxis\":{\"gridcolor\":\"white\",\"linecolor\":\"white\",\"ticks\":\"\"},\"baxis\":{\"gridcolor\":\"white\",\"linecolor\":\"white\",\"ticks\":\"\"},\"caxis\":{\"gridcolor\":\"white\",\"linecolor\":\"white\",\"ticks\":\"\"}},\"coloraxis\":{\"colorbar\":{\"outlinewidth\":0,\"ticks\":\"\"}},\"colorscale\":{\"sequential\":[[0.0,\"#0d0887\"],[0.1111111111111111,\"#46039f\"],[0.2222222222222222,\"#7201a8\"],[0.3333333333333333,\"#9c179e\"],[0.4444444444444444,\"#bd3786\"],[0.5555555555555556,\"#d8576b\"],[0.6666666666666666,\"#ed7953\"],[0.7777777777777778,\"#fb9f3a\"],[0.8888888888888888,\"#fdca26\"],[1.0,\"#f0f921\"]],\"sequentialminus\":[[0.0,\"#0d0887\"],[0.1111111111111111,\"#46039f\"],[0.2222222222222222,\"#7201a8\"],[0.3333333333333333,\"#9c179e\"],[0.4444444444444444,\"#bd3786\"],[0.5555555555555556,\"#d8576b\"],[0.6666666666666666,\"#ed7953\"],[0.7777777777777778,\"#fb9f3a\"],[0.8888888888888888,\"#fdca26\"],[1.0,\"#f0f921\"]],\"diverging\":[[0,\"#8e0152\"],[0.1,\"#c51b7d\"],[0.2,\"#de77ae\"],[0.3,\"#f1b6da\"],[0.4,\"#fde0ef\"],[0.5,\"#f7f7f7\"],[0.6,\"#e6f5d0\"],[0.7,\"#b8e186\"],[0.8,\"#7fbc41\"],[0.9,\"#4d9221\"],[1,\"#276419\"]]},\"xaxis\":{\"gridcolor\":\"white\",\"linecolor\":\"white\",\"ticks\":\"\",\"title\":{\"standoff\":15},\"zerolinecolor\":\"white\",\"automargin\":true,\"zerolinewidth\":2},\"yaxis\":{\"gridcolor\":\"white\",\"linecolor\":\"white\",\"ticks\":\"\",\"title\":{\"standoff\":15},\"zerolinecolor\":\"white\",\"automargin\":true,\"zerolinewidth\":2},\"scene\":{\"xaxis\":{\"backgroundcolor\":\"#E5ECF6\",\"gridcolor\":\"white\",\"linecolor\":\"white\",\"showbackground\":true,\"ticks\":\"\",\"zerolinecolor\":\"white\",\"gridwidth\":2},\"yaxis\":{\"backgroundcolor\":\"#E5ECF6\",\"gridcolor\":\"white\",\"linecolor\":\"white\",\"showbackground\":true,\"ticks\":\"\",\"zerolinecolor\":\"white\",\"gridwidth\":2},\"zaxis\":{\"backgroundcolor\":\"#E5ECF6\",\"gridcolor\":\"white\",\"linecolor\":\"white\",\"showbackground\":true,\"ticks\":\"\",\"zerolinecolor\":\"white\",\"gridwidth\":2}},\"shapedefaults\":{\"line\":{\"color\":\"#2a3f5f\"}},\"annotationdefaults\":{\"arrowcolor\":\"#2a3f5f\",\"arrowhead\":0,\"arrowwidth\":1},\"geo\":{\"bgcolor\":\"white\",\"landcolor\":\"#E5ECF6\",\"subunitcolor\":\"white\",\"showland\":true,\"showlakes\":true,\"lakecolor\":\"white\"},\"title\":{\"x\":0.05},\"mapbox\":{\"style\":\"light\"}}},\"scene\":{\"xaxis\":{\"range\":[-0.24379568470552707,0.33563446666136]},\"yaxis\":{\"range\":[-0.18750694950147453,0.40852262538480844]},\"zaxis\":{\"range\":[-0.14533951059785996,0.03830453931677952]},\"aspectmode\":\"cube\"}},                        {\"responsive\": true}                    ).then(function(){\n",
              "                            \n",
              "var gd = document.getElementById('173eed3b-f753-4e35-ba0a-fd7557e67845');\n",
              "var x = new MutationObserver(function (mutations, observer) {{\n",
              "        var display = window.getComputedStyle(gd).display;\n",
              "        if (!display || display === 'none') {{\n",
              "            console.log([gd, 'removed!']);\n",
              "            Plotly.purge(gd);\n",
              "            observer.disconnect();\n",
              "        }}\n",
              "}});\n",
              "\n",
              "// Listen for the removal of the full notebook cells\n",
              "var notebookContainer = gd.closest('#notebook-container');\n",
              "if (notebookContainer) {{\n",
              "    x.observe(notebookContainer, {childList: true});\n",
              "}}\n",
              "\n",
              "// Listen for the clearing of the current output cell\n",
              "var outputEl = gd.closest('.output');\n",
              "if (outputEl) {{\n",
              "    x.observe(outputEl, {childList: true});\n",
              "}}\n",
              "\n",
              "                        })                };                            </script>        </div>\n",
              "</body>\n",
              "</html>"
            ]
          },
          "metadata": {}
        }
      ],
      "source": [
        "embeddings = [reduced_obj_space_3d[n] for n in names]\n",
        "kmeans = KMeans(n_clusters, n_init='auto').fit(embeddings)\n",
        "\n",
        "# We use build a domains dictionary based on the clusters\n",
        "kmeans_clusters = {}\n",
        "for i, label in enumerate(kmeans.labels_):\n",
        "    kmeans_clusters[names[i]] = f\"Cluster  {label}\"\n",
        "\n",
        "visualize_3d_interactive(flying_animals\n",
        "                            +meal_animals\n",
        "                            +farm_animals\n",
        "                            +pet_animals\n",
        "                            +thing_animals\n",
        "                            +riding_animals,\n",
        "                         reduced_obj_space_3d,\n",
        "                         kmeans_clusters,\n",
        "                         \"plot_of_kmeans_clusters\")"
      ]
    },
    {
      "cell_type": "markdown",
      "metadata": {
        "id": "UvMSuL8lNYgf"
      },
      "source": [
        "### Quantitative with k-nearest neighbors"
      ]
    },
    {
      "cell_type": "markdown",
      "metadata": {
        "id": "lXHfROW_-_aC"
      },
      "source": [
        "We can also perform a similar analysis via the K-nearest neighbors algorithm. For this, we also perform 1000 executions and assume that the correct neighbors of each word should be the other words present in its category.\n",
        "\n",
        "By asking for the closest 5 neighbors of each word, we check how many of them are in its ground truth category and calculate the global precision (total_hits_across_all_words / words*5)\n",
        "\n",
        "Since the K-nearest neighbors algorithm allows us to use the cosine similarity, we have used this metric instead of the euclidean distance.\n",
        "\n",
        "\n",
        "In this case, the average precision is also high."
      ]
    },
    {
      "cell_type": "code",
      "execution_count": 22,
      "metadata": {
        "colab": {
          "base_uri": "https://localhost:8080/"
        },
        "id": "Zoxwi-sUNcDe",
        "outputId": "34b8b5e5-9ac4-4a37-ba1b-0d4cb328d110"
      },
      "outputs": [
        {
          "output_type": "stream",
          "name": "stdout",
          "text": [
            "The average precision of the clusters is: 0.7685185185185073\n"
          ]
        }
      ],
      "source": [
        "names = flying_animals+meal_animals+farm_animals+pet_animals+thing_animals+riding_animals\n",
        "embeddings = [prototypes[n] for n in names]\n",
        "\n",
        "n_neighbors = 5\n",
        "knn = NearestNeighbors(n_neighbors=n_neighbors, metric='cosine')\n",
        "knn.fit(embeddings)\n",
        "\n",
        "avg_precision = 0.0\n",
        "\n",
        "for _ in range(1000):\n",
        "  correct_predictions = 0\n",
        "  total_pairs = 0\n",
        "  for category in [flying_animals, meal_animals, farm_animals, pet_animals, thing_animals, riding_animals]:\n",
        "      for i, name in enumerate(category):\n",
        "          name_idx = names.index(name)\n",
        "\n",
        "          _distances, indices = knn.kneighbors([embeddings[name_idx]])\n",
        "          nearest_neighbors = [embeddings[i] for i in indices[0]][1:]\n",
        "          nearest_neighbors_names = [names[i] for i in indices[0]][1:]\n",
        "\n",
        "          #print(f\"Nearest neighbors of {name}:\")\n",
        "          #for n in nearest_neighbors_names:\n",
        "          #  print(f\"\\t{n}\")\n",
        "\n",
        "          # Check how many of the nearest neighbors belong to the same category\n",
        "          same_category_neighbors = [n for n in nearest_neighbors_names if n in category]\n",
        "          correct_predictions += len(same_category_neighbors)\n",
        "          total_pairs += n_neighbors - 1  # Excluding itself\n",
        "\n",
        "  avg_precision += correct_predictions / total_pairs\n",
        "\n",
        "print(f\"The average precision of the clusters is: {avg_precision / 1000.0}\")"
      ]
    }
  ],
  "metadata": {
    "colab": {
      "provenance": []
    },
    "kernelspec": {
      "display_name": "Python 3 (ipykernel)",
      "language": "python",
      "name": "python3"
    },
    "language_info": {
      "codemirror_mode": {
        "name": "ipython",
        "version": 3
      },
      "file_extension": ".py",
      "mimetype": "text/x-python",
      "name": "python",
      "nbconvert_exporter": "python",
      "pygments_lexer": "ipython3",
      "version": "3.11.8"
    },
    "widgets": {
      "application/vnd.jupyter.widget-state+json": {
        "68f4b51f11a943e590ebb06fcb821ee0": {
          "model_module": "@jupyter-widgets/controls",
          "model_name": "VBoxModel",
          "model_module_version": "1.5.0",
          "state": {
            "_dom_classes": [
              "widget-interact"
            ],
            "_model_module": "@jupyter-widgets/controls",
            "_model_module_version": "1.5.0",
            "_model_name": "VBoxModel",
            "_view_count": null,
            "_view_module": "@jupyter-widgets/controls",
            "_view_module_version": "1.5.0",
            "_view_name": "VBoxView",
            "box_style": "",
            "children": [
              "IPY_MODEL_54e08223a4e8479e8ecf3cbcdf995e8e",
              "IPY_MODEL_b9183e45e4a84e74a1b235ff0d290768"
            ],
            "layout": "IPY_MODEL_03c7f9886f494df3ac114743e75d7708"
          }
        },
        "54e08223a4e8479e8ecf3cbcdf995e8e": {
          "model_module": "@jupyter-widgets/controls",
          "model_name": "TextModel",
          "model_module_version": "1.5.0",
          "state": {
            "_dom_classes": [],
            "_model_module": "@jupyter-widgets/controls",
            "_model_module_version": "1.5.0",
            "_model_name": "TextModel",
            "_view_count": null,
            "_view_module": "@jupyter-widgets/controls",
            "_view_module_version": "1.5.0",
            "_view_name": "TextView",
            "continuous_update": true,
            "description": "query",
            "description_tooltip": null,
            "disabled": false,
            "layout": "IPY_MODEL_62ac2dc67cf44b988b32f349a4c9e27f",
            "placeholder": "​",
            "style": "IPY_MODEL_07d2960bd51c4cb084d595927315b3d5",
            "value": ""
          }
        },
        "b9183e45e4a84e74a1b235ff0d290768": {
          "model_module": "@jupyter-widgets/output",
          "model_name": "OutputModel",
          "model_module_version": "1.0.0",
          "state": {
            "_dom_classes": [],
            "_model_module": "@jupyter-widgets/output",
            "_model_module_version": "1.0.0",
            "_model_name": "OutputModel",
            "_view_count": null,
            "_view_module": "@jupyter-widgets/output",
            "_view_module_version": "1.0.0",
            "_view_name": "OutputView",
            "layout": "IPY_MODEL_c3ff80750c4a4cd2aa41e2d1ef0825bb",
            "msg_id": "",
            "outputs": [
              {
                "output_type": "stream",
                "name": "stderr",
                "text": [
                  "WARNING:root:Applied processor reduces input query to empty string, all comparisons will have score 0. [Query: '']\n"
                ]
              },
              {
                "output_type": "stream",
                "name": "stdout",
                "text": [
                  "['bumper', 'motor', 'mirrors', 'ship', 'beverage']\n"
                ]
              }
            ]
          }
        },
        "03c7f9886f494df3ac114743e75d7708": {
          "model_module": "@jupyter-widgets/base",
          "model_name": "LayoutModel",
          "model_module_version": "1.2.0",
          "state": {
            "_model_module": "@jupyter-widgets/base",
            "_model_module_version": "1.2.0",
            "_model_name": "LayoutModel",
            "_view_count": null,
            "_view_module": "@jupyter-widgets/base",
            "_view_module_version": "1.2.0",
            "_view_name": "LayoutView",
            "align_content": null,
            "align_items": null,
            "align_self": null,
            "border": null,
            "bottom": null,
            "display": null,
            "flex": null,
            "flex_flow": null,
            "grid_area": null,
            "grid_auto_columns": null,
            "grid_auto_flow": null,
            "grid_auto_rows": null,
            "grid_column": null,
            "grid_gap": null,
            "grid_row": null,
            "grid_template_areas": null,
            "grid_template_columns": null,
            "grid_template_rows": null,
            "height": null,
            "justify_content": null,
            "justify_items": null,
            "left": null,
            "margin": null,
            "max_height": null,
            "max_width": null,
            "min_height": null,
            "min_width": null,
            "object_fit": null,
            "object_position": null,
            "order": null,
            "overflow": null,
            "overflow_x": null,
            "overflow_y": null,
            "padding": null,
            "right": null,
            "top": null,
            "visibility": null,
            "width": null
          }
        },
        "62ac2dc67cf44b988b32f349a4c9e27f": {
          "model_module": "@jupyter-widgets/base",
          "model_name": "LayoutModel",
          "model_module_version": "1.2.0",
          "state": {
            "_model_module": "@jupyter-widgets/base",
            "_model_module_version": "1.2.0",
            "_model_name": "LayoutModel",
            "_view_count": null,
            "_view_module": "@jupyter-widgets/base",
            "_view_module_version": "1.2.0",
            "_view_name": "LayoutView",
            "align_content": null,
            "align_items": null,
            "align_self": null,
            "border": null,
            "bottom": null,
            "display": null,
            "flex": null,
            "flex_flow": null,
            "grid_area": null,
            "grid_auto_columns": null,
            "grid_auto_flow": null,
            "grid_auto_rows": null,
            "grid_column": null,
            "grid_gap": null,
            "grid_row": null,
            "grid_template_areas": null,
            "grid_template_columns": null,
            "grid_template_rows": null,
            "height": null,
            "justify_content": null,
            "justify_items": null,
            "left": null,
            "margin": null,
            "max_height": null,
            "max_width": null,
            "min_height": null,
            "min_width": null,
            "object_fit": null,
            "object_position": null,
            "order": null,
            "overflow": null,
            "overflow_x": null,
            "overflow_y": null,
            "padding": null,
            "right": null,
            "top": null,
            "visibility": null,
            "width": null
          }
        },
        "07d2960bd51c4cb084d595927315b3d5": {
          "model_module": "@jupyter-widgets/controls",
          "model_name": "DescriptionStyleModel",
          "model_module_version": "1.5.0",
          "state": {
            "_model_module": "@jupyter-widgets/controls",
            "_model_module_version": "1.5.0",
            "_model_name": "DescriptionStyleModel",
            "_view_count": null,
            "_view_module": "@jupyter-widgets/base",
            "_view_module_version": "1.2.0",
            "_view_name": "StyleView",
            "description_width": ""
          }
        },
        "c3ff80750c4a4cd2aa41e2d1ef0825bb": {
          "model_module": "@jupyter-widgets/base",
          "model_name": "LayoutModel",
          "model_module_version": "1.2.0",
          "state": {
            "_model_module": "@jupyter-widgets/base",
            "_model_module_version": "1.2.0",
            "_model_name": "LayoutModel",
            "_view_count": null,
            "_view_module": "@jupyter-widgets/base",
            "_view_module_version": "1.2.0",
            "_view_name": "LayoutView",
            "align_content": null,
            "align_items": null,
            "align_self": null,
            "border": null,
            "bottom": null,
            "display": null,
            "flex": null,
            "flex_flow": null,
            "grid_area": null,
            "grid_auto_columns": null,
            "grid_auto_flow": null,
            "grid_auto_rows": null,
            "grid_column": null,
            "grid_gap": null,
            "grid_row": null,
            "grid_template_areas": null,
            "grid_template_columns": null,
            "grid_template_rows": null,
            "height": null,
            "justify_content": null,
            "justify_items": null,
            "left": null,
            "margin": null,
            "max_height": null,
            "max_width": null,
            "min_height": null,
            "min_width": null,
            "object_fit": null,
            "object_position": null,
            "order": null,
            "overflow": null,
            "overflow_x": null,
            "overflow_y": null,
            "padding": null,
            "right": null,
            "top": null,
            "visibility": null,
            "width": null
          }
        }
      }
    }
  },
  "nbformat": 4,
  "nbformat_minor": 0
}